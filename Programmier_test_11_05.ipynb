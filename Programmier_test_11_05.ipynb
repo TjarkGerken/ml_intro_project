{
 "cells": [
  {
   "attachments": {},
   "cell_type": "markdown",
   "metadata": {},
   "source": [
    "# Programmier Test vom 11.05\n",
    "\n",
    "## - **Es sind keine Hilfsmittel zugelassen**\n",
    "- **Aufgaben mit programmieren und nicht mit ausschliesslich print lösen**"
   ]
  },
  {
   "attachments": {},
   "cell_type": "markdown",
   "metadata": {},
   "source": [
    "### Aufgabe 1:\n",
    "\n",
    "Schreibe eine Funktion, welche drei Input Werte subtahieren kann\n",
    "- Inputwerte sind exemplarisch:\n",
    "    - einmal: 10,4,3\n",
    "    - zum anderen: 10,5\n",
    "- der Erste Wert ist der Wert von dem die anderen Werte subtrahiert werden\n",
    "- die Funktion soll mittels `**format**` ausgeben:\n",
    "`Wenn 10 mit 4 und 3 subtahiert wird, ist das Ergebnis gleich 3`\n",
    "\n",
    "<br><br> ``maximale Punktzahl 6``"
   ]
  },
  {
   "cell_type": "code",
   "execution_count": null,
   "metadata": {},
   "outputs": [],
   "source": []
  },
  {
   "attachments": {},
   "cell_type": "markdown",
   "metadata": {},
   "source": [
    "### Aufgabe 2:\n",
    "\n",
    "Schreibe eine Funktion, welche bestimmt, ob der Input gerade und ungerade ist.\n",
    "- In die Funktionen soll eine Variable gegeben werden\n",
    "\n",
    "<br><br> ``maximale Punktzahl 4,5``"
   ]
  },
  {
   "cell_type": "code",
   "execution_count": null,
   "metadata": {},
   "outputs": [],
   "source": []
  },
  {
   "attachments": {},
   "cell_type": "markdown",
   "metadata": {},
   "source": [
    "### Aufgabe 3:\n",
    "\n",
    "Schreibe eine Funktion, welche eine beliebige Anzahl an Werten in eine neue Liste fügt und diese sortiert, wenn\n",
    "- der Input-Wert zwischen 10 und 20 ist **oder** \n",
    "- durch 3 teilbar ist (ohne, dass es einen rest gibt)\n",
    "- Wenn du die Liste mit den Werten ``5,12,6,17,3,8,20 und 22`` gibst, sollte das Ergebnis `3, 6, 12, 17` rauskommen\n",
    "\n",
    "<br><br> ``maximale Punktzahl 7,5``"
   ]
  },
  {
   "cell_type": "code",
   "execution_count": null,
   "metadata": {},
   "outputs": [],
   "source": []
  },
  {
   "attachments": {},
   "cell_type": "markdown",
   "metadata": {},
   "source": [
    "### Aufgabe 4:\n",
    "programmiere mittels `for Schleifen` folgende Ausgaben:\n",
    "- [_ _ 0 _ _ ]\n",
    "- [_ _ _ * _ ]\n",
    "- [_ _ _ _ * ]\n",
    "- [_ _ _ * _ ]\n",
    "- [_ _ 0 _ _ ]\n",
    "- [_ * _ _ _ ]\n",
    "- [* _ _ _ _ ]\n",
    "- [_ * _ _ _ ]\n",
    "- [_ _ 0 _ _ ]\n",
    "- [_ _ _ * _ ]\n",
    "- [_ _ _ _ * ]\n",
    "- [_ _ _ * _ ]\n",
    "- [_ _ 0 _ _ ]\n",
    "- [_ * _ _ _ ]\n",
    "- [* _ _ _ _ ]\n",
    "- [_ * _ _ _ ]\n",
    "\n",
    "<br><br> ``maximale Punktzahl 15``"
   ]
  },
  {
   "cell_type": "code",
   "execution_count": null,
   "metadata": {},
   "outputs": [],
   "source": []
  },
  {
   "attachments": {},
   "cell_type": "markdown",
   "metadata": {},
   "source": [
    "### Aufgabe 5:\n",
    "\n",
    "Summiere in einer while-condition\n",
    "- der Input-Wert zwischen 10 und 20 ist oder \n",
    "- durch 3 teilbar ist (ohne, dass es einen rest gibt)\n",
    "- Wenn du die Liste mit den Werten ``5,12,6,17,3,8,20 und 22`` gibst, sollte das Ergebnis `12, 6, 17, 3` rauskommen\n",
    "<br> Ergebnis = 105\n",
    "\n",
    "<br><br> ``maximale Punktzahl 4``"
   ]
  },
  {
   "cell_type": "code",
   "execution_count": null,
   "metadata": {},
   "outputs": [],
   "source": []
  }
 ],
 "metadata": {
  "kernelspec": {
   "display_name": "Python 3",
   "language": "python",
   "name": "python3"
  },
  "language_info": {
   "codemirror_mode": {
    "name": "ipython",
    "version": 3
   },
   "file_extension": ".py",
   "mimetype": "text/x-python",
   "name": "python",
   "nbconvert_exporter": "python",
   "pygments_lexer": "ipython3",
   "version": "3.9.6"
  },
  "orig_nbformat": 4
 },
 "nbformat": 4,
 "nbformat_minor": 2
}
